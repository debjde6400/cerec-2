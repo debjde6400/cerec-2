{
  "nbformat": 4,
  "nbformat_minor": 0,
  "metadata": {
    "colab": {
      "name": "CoreNLP Server Notebook.ipynb",
      "provenance": [],
      "collapsed_sections": [],
      "mount_file_id": "1ZvTGHUT91-QEW10kf3CnBWNgPderlSE-",
      "authorship_tag": "ABX9TyMQqCuvmiZKW/5dwYy8adoR",
      "include_colab_link": true
    },
    "kernelspec": {
      "display_name": "Python 3",
      "name": "python3"
    },
    "language_info": {
      "name": "python"
    }
  },
  "cells": [
    {
      "cell_type": "markdown",
      "metadata": {
        "id": "view-in-github",
        "colab_type": "text"
      },
      "source": [
        "<a href=\"https://colab.research.google.com/github/debjde6400/cerec-2/blob/main/CoreNLP_Server_Notebook.ipynb\" target=\"_parent\"><img src=\"https://colab.research.google.com/assets/colab-badge.svg\" alt=\"Open In Colab\"/></a>"
      ]
    },
    {
      "cell_type": "markdown",
      "metadata": {
        "id": "sNgJFGE3VI_d"
      },
      "source": [
        "#**CoreNLP Server tunnelling**\n",
        "\n",
        "Through this notebook we will establish a CoreNLP server for Cerec 2 system. It uses Ngrok tunnelling to emulate the server through localhost:9002."
      ]
    },
    {
      "cell_type": "markdown",
      "metadata": {
        "id": "-XnqgluzbMNK"
      },
      "source": [
        "# Mount google drive\n",
        "\n",
        "Use 'Mount Drive' option from the sidebar to connect your google drive."
      ]
    },
    {
      "cell_type": "markdown",
      "metadata": {
        "id": "kabpNYNtVkEK"
      },
      "source": [
        "##Importing required packages"
      ]
    },
    {
      "cell_type": "code",
      "metadata": {
        "id": "fQGX_XEKU-rk"
      },
      "source": [
        "import os, sys\n",
        "import subprocess\n",
        "import json\n",
        "import time\n",
        "import requests"
      ],
      "execution_count": 1,
      "outputs": []
    },
    {
      "cell_type": "markdown",
      "metadata": {
        "id": "JLkFX1n1WM64"
      },
      "source": [
        "## Get and set the core nlp server\n",
        "\n",
        "(Here CoreNLP 4.2.2 has been used.)"
      ]
    },
    {
      "cell_type": "code",
      "metadata": {
        "colab": {
          "base_uri": "https://localhost:8080/"
        },
        "id": "PTNl0oGyXEOb",
        "outputId": "b290fed1-f3e6-4fb9-c443-70d0f497f2ba"
      },
      "source": [
        "! wget http://nlp.stanford.edu/software/stanford-corenlp-latest.zip\n",
        "! unzip stanford-corenlp-latest.zip"
      ],
      "execution_count": 2,
      "outputs": [
        {
          "output_type": "stream",
          "text": [
            "--2021-07-10 19:34:44--  http://nlp.stanford.edu/software/stanford-corenlp-latest.zip\n",
            "Resolving nlp.stanford.edu (nlp.stanford.edu)... 171.64.67.140\n",
            "Connecting to nlp.stanford.edu (nlp.stanford.edu)|171.64.67.140|:80... connected.\n",
            "HTTP request sent, awaiting response... 302 Found\n",
            "Location: https://nlp.stanford.edu/software/stanford-corenlp-latest.zip [following]\n",
            "--2021-07-10 19:34:44--  https://nlp.stanford.edu/software/stanford-corenlp-latest.zip\n",
            "Connecting to nlp.stanford.edu (nlp.stanford.edu)|171.64.67.140|:443... connected.\n",
            "HTTP request sent, awaiting response... 302 FOUND\n",
            "Location: https://downloads.cs.stanford.edu/nlp/software/stanford-corenlp-latest.zip [following]\n",
            "--2021-07-10 19:34:45--  https://downloads.cs.stanford.edu/nlp/software/stanford-corenlp-latest.zip\n",
            "Resolving downloads.cs.stanford.edu (downloads.cs.stanford.edu)... 171.64.64.22\n",
            "Connecting to downloads.cs.stanford.edu (downloads.cs.stanford.edu)|171.64.64.22|:443... connected.\n",
            "HTTP request sent, awaiting response... 200 OK\n",
            "Length: 504278711 (481M) [application/zip]\n",
            "Saving to: ‘stanford-corenlp-latest.zip’\n",
            "\n",
            "stanford-corenlp-la 100%[===================>] 480.92M  5.08MB/s    in 91s     \n",
            "\n",
            "2021-07-10 19:36:16 (5.28 MB/s) - ‘stanford-corenlp-latest.zip’ saved [504278711/504278711]\n",
            "\n",
            "Archive:  stanford-corenlp-latest.zip\n",
            "   creating: stanford-corenlp-4.2.2/\n",
            "   creating: stanford-corenlp-4.2.2/patterns/\n",
            "  inflating: stanford-corenlp-4.2.2/patterns/names.txt  \n",
            " extracting: stanford-corenlp-4.2.2/patterns/otherpeople.txt  \n",
            "  inflating: stanford-corenlp-4.2.2/patterns/example.properties  \n",
            "  inflating: stanford-corenlp-4.2.2/patterns/presidents.txt  \n",
            "  inflating: stanford-corenlp-4.2.2/patterns/goldnames.txt  \n",
            " extracting: stanford-corenlp-4.2.2/patterns/places.txt  \n",
            "  inflating: stanford-corenlp-4.2.2/patterns/stopwords.txt  \n",
            " extracting: stanford-corenlp-4.2.2/patterns/goldplaces.txt  \n",
            "  inflating: stanford-corenlp-4.2.2/stanford-corenlp-4.2.2-sources.jar  \n",
            "  inflating: stanford-corenlp-4.2.2/pom-java-11.xml  \n",
            "  inflating: stanford-corenlp-4.2.2/input.txt.out  \n",
            "  inflating: stanford-corenlp-4.2.2/LIBRARY-LICENSES  \n",
            "  inflating: stanford-corenlp-4.2.2/istack-commons-runtime-3.0.7.jar  \n",
            "  inflating: stanford-corenlp-4.2.2/build.xml  \n",
            "  inflating: stanford-corenlp-4.2.2/jollyday.jar  \n",
            "  inflating: stanford-corenlp-4.2.2/StanfordDependenciesManual.pdf  \n",
            "  inflating: stanford-corenlp-4.2.2/javax.activation-api-1.2.0-sources.jar  \n",
            "  inflating: stanford-corenlp-4.2.2/pom.xml  \n",
            "  inflating: stanford-corenlp-4.2.2/javax.activation-api-1.2.0.jar  \n",
            "  inflating: stanford-corenlp-4.2.2/LICENSE.txt  \n",
            "  inflating: stanford-corenlp-4.2.2/jaxb-api-2.4.0-b180830.0359-sources.jar  \n",
            "  inflating: stanford-corenlp-4.2.2/StanfordCoreNlpDemo.java  \n",
            "  inflating: stanford-corenlp-4.2.2/joda-time-2.10.5-sources.jar  \n",
            "  inflating: stanford-corenlp-4.2.2/ejml-simple-0.39-sources.jar  \n",
            "  inflating: stanford-corenlp-4.2.2/ejml-ddense-0.39-sources.jar  \n",
            "   creating: stanford-corenlp-4.2.2/sutime/\n",
            "  inflating: stanford-corenlp-4.2.2/sutime/english.sutime.txt  \n",
            "  inflating: stanford-corenlp-4.2.2/sutime/spanish.sutime.txt  \n",
            "  inflating: stanford-corenlp-4.2.2/sutime/british.sutime.txt  \n",
            "  inflating: stanford-corenlp-4.2.2/sutime/english.holidays.sutime.txt  \n",
            "  inflating: stanford-corenlp-4.2.2/sutime/defs.sutime.txt  \n",
            "  inflating: stanford-corenlp-4.2.2/input.txt  \n",
            "  inflating: stanford-corenlp-4.2.2/slf4j-simple.jar  \n",
            "  inflating: stanford-corenlp-4.2.2/jaxb-impl-2.4.0-b180830.0438-sources.jar  \n",
            "  inflating: stanford-corenlp-4.2.2/README.txt  \n",
            "  inflating: stanford-corenlp-4.2.2/javax.json.jar  \n",
            "  inflating: stanford-corenlp-4.2.2/jollyday-0.4.9-sources.jar  \n",
            "   creating: stanford-corenlp-4.2.2/tokensregex/\n",
            "  inflating: stanford-corenlp-4.2.2/tokensregex/retokenize.txt  \n",
            "  inflating: stanford-corenlp-4.2.2/tokensregex/color.input.txt  \n",
            "  inflating: stanford-corenlp-4.2.2/tokensregex/color.properties  \n",
            "  inflating: stanford-corenlp-4.2.2/tokensregex/color.rules.txt  \n",
            "  inflating: stanford-corenlp-4.2.2/ejml-core-0.39-sources.jar  \n",
            "  inflating: stanford-corenlp-4.2.2/stanford-corenlp-4.2.2.jar  \n",
            "  inflating: stanford-corenlp-4.2.2/joda-time.jar  \n",
            "  inflating: stanford-corenlp-4.2.2/ejml-simple-0.39.jar  \n",
            "  inflating: stanford-corenlp-4.2.2/CoreNLP-to-HTML.xsl  \n",
            "  inflating: stanford-corenlp-4.2.2/xom.jar  \n",
            "  inflating: stanford-corenlp-4.2.2/xom-1.3.2-sources.jar  \n",
            "  inflating: stanford-corenlp-4.2.2/corenlp.sh  \n",
            "  inflating: stanford-corenlp-4.2.2/RESOURCE-LICENSES  \n",
            "  inflating: stanford-corenlp-4.2.2/input.txt.xml  \n",
            "  inflating: stanford-corenlp-4.2.2/protobuf-java-3.11.4.jar  \n",
            "  inflating: stanford-corenlp-4.2.2/Makefile  \n",
            "  inflating: stanford-corenlp-4.2.2/ShiftReduceDemo.java  \n",
            "  inflating: stanford-corenlp-4.2.2/javax.json-api-1.0-sources.jar  \n",
            "  inflating: stanford-corenlp-4.2.2/stanford-corenlp-4.2.2-models.jar  \n",
            "  inflating: stanford-corenlp-4.2.2/stanford-corenlp-4.2.2-javadoc.jar  \n",
            "  inflating: stanford-corenlp-4.2.2/ejml-core-0.39.jar  \n",
            "  inflating: stanford-corenlp-4.2.2/SemgrexDemo.java  \n",
            "  inflating: stanford-corenlp-4.2.2/jaxb-impl-2.4.0-b180830.0438.jar  \n",
            "  inflating: stanford-corenlp-4.2.2/jaxb-api-2.4.0-b180830.0359.jar  \n",
            "  inflating: stanford-corenlp-4.2.2/slf4j-api.jar  \n",
            "  inflating: stanford-corenlp-4.2.2/istack-commons-runtime-3.0.7-sources.jar  \n",
            "  inflating: stanford-corenlp-4.2.2/ejml-ddense-0.39.jar  \n"
          ],
          "name": "stdout"
        }
      ]
    },
    {
      "cell_type": "code",
      "metadata": {
        "colab": {
          "base_uri": "https://localhost:8080/"
        },
        "id": "iwCdCqnh0X-d",
        "outputId": "873b7cd3-4b68-4f82-eed1-9e52b77989f6"
      },
      "source": [
        "% cd stanford-corenlp-4.2.2"
      ],
      "execution_count": 3,
      "outputs": [
        {
          "output_type": "stream",
          "text": [
            "/content/stanford-corenlp-4.2.2\n"
          ],
          "name": "stdout"
        }
      ]
    },
    {
      "cell_type": "markdown",
      "metadata": {
        "id": "eyeKoomVXdJu"
      },
      "source": [
        "## Setting up server\n",
        "\n",
        "Here we set up the server and generate the url to it. There are 2 ways to generate such a server, which are discussed below.\n",
        "\n",
        "### Way 1\n",
        "\n",
        "These are the helper methods used here."
      ]
    },
    {
      "cell_type": "code",
      "metadata": {
        "id": "aDMF0pVEXfVx"
      },
      "source": [
        "def _get_ngrok_tunnel():\n",
        "    while True:\n",
        "        try:\n",
        "            tunnels_json = requests.get(\"http://localhost:4040/api/tunnels\").content\n",
        "            public_url = json.loads(tunnels_json)['tunnels'][0]['public_url']\n",
        "            return public_url\n",
        "        except Exception:\n",
        "            print(\"Can't get public url, retrying...\")\n",
        "            time.sleep(2)\n",
        "\n",
        "\n",
        "def _warmup_ngrok_tunnel(public_url):\n",
        "    while requests.get(public_url).status_code >= 500:\n",
        "        print(\"Tunnel is not ready, retrying...\")\n",
        "        time.sleep(2)"
      ],
      "execution_count": 4,
      "outputs": []
    },
    {
      "cell_type": "markdown",
      "metadata": {
        "id": "DKXnnhbXYbCO"
      },
      "source": [
        "Set up server using net-tools and ngrok."
      ]
    },
    {
      "cell_type": "code",
      "metadata": {
        "id": "TgTemtloYFLo"
      },
      "source": [
        "def expose_port_on_colab(port):\n",
        "    '''os.system(\"apt-get install net-tools\")\n",
        "    # check that port is open\n",
        "    while not (\":{} \".format(port) in str(subprocess.check_output(\"netstat -vatn\", shell=True))):\n",
        "        print(\"Port {} is closed, retrying...\".format(port))\n",
        "        time.sleep(2)'''\n",
        "\n",
        "    # run ngrok\n",
        "    get_ipython().system_raw(\"wget https://bin.equinox.io/c/4VmDzA7iaHb/ngrok-stable-linux-amd64.zip\") #(only for 1st time)\n",
        "    get_ipython().system_raw(\"unzip ngrok-stable-linux-amd64.zip\")\n",
        "    get_ipython().system_raw(\"./ngrok authtoken 1tRpHQnGTioq0wCWmLIWpXLNRmt_7g77xtvwmBAUmuTG52gs7\")\n",
        "    LOGDIR = '/tmp/log'\n",
        "    get_ipython().system_raw('java -mx4g -cp \"*\" edu.stanford.nlp.pipeline.StanfordCoreNLPServer -port 9002 -timeout 300000 &'.format(LOGDIR))\n",
        "    get_ipython().system_raw(\"./ngrok http {0} &\".format(port))\n",
        "    public_url = _get_ngrok_tunnel()\n",
        "    _warmup_ngrok_tunnel(public_url)\n",
        "\n",
        "    print(\"Open {0} to access your {1} port\".format(public_url, port))"
      ],
      "execution_count": 5,
      "outputs": []
    },
    {
      "cell_type": "markdown",
      "metadata": {
        "id": "7MBOYEtEZZXG"
      },
      "source": [
        "Expose port by calling the above method."
      ]
    },
    {
      "cell_type": "code",
      "metadata": {
        "colab": {
          "base_uri": "https://localhost:8080/"
        },
        "id": "kJnC9dmeZX1u",
        "outputId": "a040f7c0-6928-4f2e-877c-521544da2912"
      },
      "source": [
        "expose_port_on_colab(9002)"
      ],
      "execution_count": 6,
      "outputs": [
        {
          "output_type": "stream",
          "text": [
            "Can't get public url, retrying...\n",
            "Open http://2f21e1729c5f.ngrok.io to access your 9002 port\n"
          ],
          "name": "stdout"
        }
      ]
    },
    {
      "cell_type": "markdown",
      "metadata": {
        "id": "GDrxvx9Ua8rD"
      },
      "source": [
        "## Close server"
      ]
    },
    {
      "cell_type": "code",
      "metadata": {
        "id": "ogfrv_4Ra79x"
      },
      "source": [
        "get_ipython().system_raw('./ngrok kill')"
      ],
      "execution_count": 7,
      "outputs": []
    }
  ]
}