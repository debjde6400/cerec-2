{
 "metadata": {
  "language_info": {
   "codemirror_mode": {
    "name": "ipython",
    "version": 3
   },
   "file_extension": ".py",
   "mimetype": "text/x-python",
   "name": "python",
   "nbconvert_exporter": "python",
   "pygments_lexer": "ipython3",
   "version": "3.8.3-final"
  },
  "orig_nbformat": 2,
  "kernelspec": {
   "name": "python3",
   "display_name": "Python 3"
  }
 },
 "nbformat": 4,
 "nbformat_minor": 2,
 "cells": [
  {
   "cell_type": "code",
   "execution_count": 16,
   "metadata": {},
   "outputs": [],
   "source": [
    "from __future__ import print_function\n",
    "import torch"
   ]
  },
  {
   "cell_type": "code",
   "execution_count": 17,
   "metadata": {},
   "outputs": [
    {
     "output_type": "stream",
     "name": "stdout",
     "text": [
      "tensor([[1.0102e-38, 1.0286e-38, 1.0194e-38, 9.6429e-39, 9.2755e-39, 9.1837e-39],\n        [9.3674e-39, 1.0745e-38, 1.0653e-38, 9.5510e-39, 1.0561e-38, 1.0194e-38],\n        [1.1112e-38, 1.0561e-38, 9.9184e-39, 1.0653e-38, 4.1327e-39, 1.0194e-38]])\n"
     ]
    }
   ],
   "source": [
    "x1 = torch.empty(3,6)\n",
    "print(x1)"
   ]
  },
  {
   "cell_type": "code",
   "execution_count": 18,
   "metadata": {},
   "outputs": [
    {
     "output_type": "stream",
     "name": "stdout",
     "text": [
      "tensor([[0.7367, 0.6920, 0.3199, 0.1865],\n        [0.9904, 0.3553, 0.8410, 0.7694],\n        [0.8908, 0.3722, 0.6244, 0.9159],\n        [0.0660, 0.7986, 0.3564, 0.1710],\n        [0.5017, 0.0678, 0.5037, 0.4273]])\n"
     ]
    }
   ],
   "source": [
    "x2 = torch.rand(5,4)\n",
    "print(x2)"
   ]
  },
  {
   "cell_type": "code",
   "execution_count": 19,
   "metadata": {},
   "outputs": [
    {
     "output_type": "stream",
     "name": "stdout",
     "text": [
      "tensor([[0, 0, 0, 0],\n",
      "        [0, 0, 0, 0]])\n"
     ]
    }
   ],
   "source": [
    "x3 = torch.zeros(2,4, dtype=torch.long)\n",
    "print(x3)"
   ]
  },
  {
   "cell_type": "code",
   "execution_count": 20,
   "metadata": {},
   "outputs": [
    {
     "output_type": "stream",
     "name": "stdout",
     "text": [
      "tensor([[ 0.2300,  0.4500],\n",
      "        [ 1.2800, -3.4900]])\n"
     ]
    }
   ],
   "source": [
    "x4 = torch.tensor([[0.23, 0.45], [1.28, -3.49]])\n",
    "print(x4)"
   ]
  },
  {
   "cell_type": "code",
   "execution_count": 21,
   "metadata": {},
   "outputs": [
    {
     "output_type": "stream",
     "name": "stdout",
     "text": [
      "tensor([[1., 1., 1.],\n        [1., 1., 1.],\n        [1., 1., 1.]], dtype=torch.float64)\n"
     ]
    }
   ],
   "source": [
    "x2 = x2.new_ones(3,3, dtype=torch.double)\n",
    "print(x2)"
   ]
  },
  {
   "cell_type": "code",
   "execution_count": 22,
   "metadata": {},
   "outputs": [
    {
     "output_type": "stream",
     "name": "stdout",
     "text": [
      "tensor([[-2.6133, -0.7310,  0.3040],\n        [-0.6235,  0.7334, -0.5522],\n        [ 1.1377, -0.8359, -0.4939]], dtype=torch.float16)\n"
     ]
    }
   ],
   "source": [
    "x2 = torch.randn_like(x2, dtype=torch.float16)\n",
    "print(x2)"
   ]
  },
  {
   "cell_type": "code",
   "execution_count": 23,
   "metadata": {},
   "outputs": [
    {
     "output_type": "stream",
     "name": "stdout",
     "text": [
      "tensor([[-2.5996, -0.6499,  0.7695],\n",
      "        [-0.2979,  1.3027, -0.3101],\n",
      "        [ 1.3252, -0.3628,  0.2805]], dtype=torch.float16)\n",
      "\n",
      "\n",
      "tensor([[-2.5996, -0.6499,  0.7695],\n",
      "        [-0.2979,  1.3027, -0.3101],\n",
      "        [ 1.3252, -0.3628,  0.2805]], dtype=torch.float16)\n"
     ]
    }
   ],
   "source": [
    "x = x2\n",
    "y = torch.rand(3, 3, dtype=torch.float16)\n",
    "print(x + y)\n",
    "print('\\n')\n",
    "print(torch.add(x, y))"
   ]
  },
  {
   "cell_type": "code",
   "execution_count": 24,
   "metadata": {},
   "outputs": [
    {
     "output_type": "stream",
     "name": "stdout",
     "text": [
      "tensor([[-0.0370, -0.0592,  0.1416],\n        [-0.2031,  0.4172, -0.1338],\n        [ 0.2134, -0.3955, -0.3826]], dtype=torch.float16)\n"
     ]
    }
   ],
   "source": [
    "res1 = torch.empty(3, 3, dtype=torch.float16)\n",
    "torch.mul(x, y, out=res1)\n",
    "print(res1)"
   ]
  },
  {
   "cell_type": "code",
   "execution_count": 25,
   "metadata": {},
   "outputs": [
    {
     "output_type": "stream",
     "name": "stdout",
     "text": [
      "tensor([[0.3790, 0.9016, 0.3094],\n",
      "        [0.1261, 0.6167, 0.3363],\n",
      "        [0.8443, 0.5886, 0.0721]])\n",
      "\n",
      "\n",
      "tensor([[ 0.3419,  0.8424,  0.4510],\n",
      "        [-0.0770,  1.0339,  0.2025],\n",
      "        [ 1.0577,  0.1931, -0.3105]])\n"
     ]
    }
   ],
   "source": [
    "y2 = torch.rand(3,3)\n",
    "print(y2)\n",
    "print('\\n')\n",
    "y2.add_(res1)\n",
    "print(y2)"
   ]
  },
  {
   "cell_type": "code",
   "execution_count": 26,
   "metadata": {},
   "outputs": [
    {
     "output_type": "stream",
     "name": "stdout",
     "text": [
      "tensor([0, 0, 0, 0])\n"
     ]
    }
   ],
   "source": [
    "print(x3[1,:])"
   ]
  },
  {
   "cell_type": "code",
   "execution_count": 27,
   "metadata": {},
   "outputs": [
    {
     "output_type": "stream",
     "name": "stdout",
     "text": [
      "tensor([[ 1.4026,  0.9207,  1.8812,  0.6810],\n",
      "        [ 0.1470,  1.0684,  0.6833, -1.1697],\n",
      "        [ 0.8016,  0.8847,  0.3586,  0.3942],\n",
      "        [ 1.4468, -0.1877,  0.0335, -0.4204]])\n",
      "tensor([ 1.4026,  0.9207,  1.8812,  0.6810,  0.1470,  1.0684,  0.6833, -1.1697,\n",
      "         0.8016,  0.8847,  0.3586,  0.3942,  1.4468, -0.1877,  0.0335, -0.4204])\n",
      "tensor([[ 1.4026,  0.9207,  1.8812,  0.6810,  0.1470,  1.0684,  0.6833, -1.1697],\n",
      "        [ 0.8016,  0.8847,  0.3586,  0.3942,  1.4468, -0.1877,  0.0335, -0.4204]])\n"
     ]
    }
   ],
   "source": [
    "m = torch.randn(4,4)\n",
    "n = m.view(16)\n",
    "p = m.view(-1, 8)\n",
    "print(m)\n",
    "print(n)\n",
    "print(p)"
   ]
  },
  {
   "cell_type": "code",
   "execution_count": 28,
   "metadata": {},
   "outputs": [
    {
     "output_type": "stream",
     "name": "stdout",
     "text": [
      "tensor([1., 1., 1., 1., 1.])\n[1. 1. 1. 1. 1.]\n"
     ]
    }
   ],
   "source": [
    "a = torch.ones(5)\n",
    "print(a)\n",
    "b = a.numpy()\n",
    "print(b)"
   ]
  },
  {
   "cell_type": "code",
   "execution_count": 29,
   "metadata": {},
   "outputs": [
    {
     "output_type": "stream",
     "name": "stdout",
     "text": [
      "tensor([3., 3., 3., 3., 3.])\n[3. 3. 3. 3. 3.]\n"
     ]
    }
   ],
   "source": [
    "a.add_(2)\n",
    "print(a)\n",
    "print(b)"
   ]
  },
  {
   "cell_type": "code",
   "execution_count": 30,
   "metadata": {},
   "outputs": [
    {
     "output_type": "stream",
     "name": "stdout",
     "text": [
      "[4. 4. 4. 4. 4. 4. 4. 4.]\n"
     ]
    }
   ],
   "source": [
    "import numpy as np\n",
    "a1 = np.ones(8)\n",
    "b1 = torch.from_numpy(a1)\n",
    "np.add(a1, 3, out=a1)\n",
    "print(a1)"
   ]
  },
  {
   "cell_type": "code",
   "execution_count": null,
   "metadata": {},
   "outputs": [],
   "source": []
  }
 ]
}