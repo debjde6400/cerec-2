{
 "metadata": {
  "language_info": {
   "codemirror_mode": {
    "name": "ipython",
    "version": 3
   },
   "file_extension": ".py",
   "mimetype": "text/x-python",
   "name": "python",
   "nbconvert_exporter": "python",
   "pygments_lexer": "ipython3",
   "version": "3.8.3-final"
  },
  "orig_nbformat": 2,
  "kernelspec": {
   "name": "python3",
   "display_name": "Python 3"
  }
 },
 "nbformat": 4,
 "nbformat_minor": 2,
 "cells": [
  {
   "cell_type": "code",
   "execution_count": 1,
   "metadata": {},
   "outputs": [],
   "source": [
    "from __future__ import print_function\n",
    "import torch"
   ]
  },
  {
   "cell_type": "code",
   "execution_count": 2,
   "metadata": {},
   "outputs": [
    {
     "output_type": "stream",
     "name": "stdout",
     "text": [
      "tensor([[1.0359e+21, 8.4779e-43, 1.2413e+19, 8.4779e-43, 1.0495e+21, 8.4779e-43],\n        [2.9874e+16, 8.4779e-43, 1.0440e+21, 8.4779e-43, 1.2428e+19, 8.4779e-43],\n        [1.0495e+21, 8.4779e-43, 1.2446e+19, 8.4779e-43, 1.0487e+21, 8.4779e-43]])\n"
     ]
    }
   ],
   "source": [
    "x1 = torch.empty(3,6)\n",
    "print(x1)"
   ]
  },
  {
   "cell_type": "code",
   "execution_count": 3,
   "metadata": {},
   "outputs": [
    {
     "output_type": "stream",
     "name": "stdout",
     "text": [
      "tensor([[0.6131, 0.8714, 0.5240, 0.3953],\n        [0.3289, 0.8324, 0.3103, 0.1972],\n        [0.5170, 0.1499, 0.9628, 0.8088],\n        [0.3624, 0.2299, 0.5223, 0.0421],\n        [0.6654, 0.5895, 0.5356, 0.9107]])\n"
     ]
    }
   ],
   "source": [
    "x2 = torch.rand(5,4)\n",
    "print(x2)"
   ]
  },
  {
   "cell_type": "code",
   "execution_count": 4,
   "metadata": {},
   "outputs": [
    {
     "output_type": "stream",
     "name": "stdout",
     "text": [
      "tensor([[0, 0, 0, 0],\n        [0, 0, 0, 0]])\n"
     ]
    }
   ],
   "source": [
    "x3 = torch.zeros(2,4, dtype=torch.long)\n",
    "print(x3)"
   ]
  },
  {
   "cell_type": "code",
   "execution_count": 5,
   "metadata": {},
   "outputs": [
    {
     "output_type": "stream",
     "name": "stdout",
     "text": [
      "tensor([[ 0.2300,  0.4500],\n        [ 1.2800, -3.4900]])\n"
     ]
    }
   ],
   "source": [
    "x4 = torch.tensor([[0.23, 0.45], [1.28, -3.49]])\n",
    "print(x4)"
   ]
  },
  {
   "cell_type": "code",
   "execution_count": 6,
   "metadata": {},
   "outputs": [
    {
     "output_type": "stream",
     "name": "stdout",
     "text": [
      "tensor([[1., 1., 1.],\n        [1., 1., 1.],\n        [1., 1., 1.]], dtype=torch.float64)\n"
     ]
    }
   ],
   "source": [
    "x2 = x2.new_ones(3,3, dtype=torch.double)\n",
    "print(x2)"
   ]
  },
  {
   "cell_type": "code",
   "execution_count": 7,
   "metadata": {},
   "outputs": [
    {
     "output_type": "stream",
     "name": "stdout",
     "text": [
      "tensor([[ 1.0439, -2.2090, -0.8540],\n        [-0.6792, -1.3887, -0.1292],\n        [-0.8242,  0.7251, -0.2113]], dtype=torch.float16)\n"
     ]
    }
   ],
   "source": [
    "x2 = torch.randn_like(x2, dtype=torch.float16)\n",
    "print(x2)"
   ]
  },
  {
   "cell_type": "code",
   "execution_count": 8,
   "metadata": {},
   "outputs": [
    {
     "output_type": "stream",
     "name": "stdout",
     "text": [
      "tensor([[ 1.4043, -1.9014, -0.6963],\n        [-0.5938, -0.6030,  0.7598],\n        [-0.6177,  1.5498,  0.5942]], dtype=torch.float16)\n\n\ntensor([[ 1.4043, -1.9014, -0.6963],\n        [-0.5938, -0.6030,  0.7598],\n        [-0.6177,  1.5498,  0.5942]], dtype=torch.float16)\n"
     ]
    }
   ],
   "source": [
    "x = x2\n",
    "y = torch.rand(3, 3, dtype=torch.float16)\n",
    "print(x + y)\n",
    "print('\\n')\n",
    "print(torch.add(x, y))"
   ]
  },
  {
   "cell_type": "code",
   "execution_count": 9,
   "metadata": {},
   "outputs": [
    {
     "output_type": "stream",
     "name": "stdout",
     "text": [
      "tensor([[ 0.3757, -0.6797, -0.1346],\n        [-0.0580, -1.0908, -0.1148],\n        [-0.1703,  0.5981, -0.1703]], dtype=torch.float16)\n"
     ]
    }
   ],
   "source": [
    "res1 = torch.empty(3, 3, dtype=torch.float16)\n",
    "torch.mul(x, y, out=res1)\n",
    "print(res1)"
   ]
  },
  {
   "cell_type": "code",
   "execution_count": 10,
   "metadata": {},
   "outputs": [
    {
     "output_type": "stream",
     "name": "stdout",
     "text": [
      "tensor([[0.6858, 0.7354, 0.9298],\n        [0.8657, 0.5451, 0.4318],\n        [0.7173, 0.4332, 0.1855]])\n\n\ntensor([[ 1.0615,  0.0557,  0.7951],\n        [ 0.8076, -0.5457,  0.3170],\n        [ 0.5470,  1.0313,  0.0152]])\n"
     ]
    }
   ],
   "source": [
    "y2 = torch.rand(3,3)\n",
    "print(y2)\n",
    "print('\\n')\n",
    "y2.add_(res1)\n",
    "print(y2)"
   ]
  },
  {
   "cell_type": "code",
   "execution_count": 11,
   "metadata": {},
   "outputs": [
    {
     "output_type": "stream",
     "name": "stdout",
     "text": [
      "tensor([0, 0, 0, 0])\n"
     ]
    }
   ],
   "source": [
    "print(x3[1,:])"
   ]
  },
  {
   "cell_type": "code",
   "execution_count": 12,
   "metadata": {},
   "outputs": [
    {
     "output_type": "stream",
     "name": "stdout",
     "text": [
      "tensor([[-1.5971, -0.6118,  0.2971,  0.0373],\n        [-0.4902,  0.8217, -0.1105,  0.0570],\n        [ 0.4399, -1.2609, -0.3235,  1.6398],\n        [-1.0535, -0.6585,  0.3237,  0.7504]])\ntensor([-1.5971, -0.6118,  0.2971,  0.0373, -0.4902,  0.8217, -0.1105,  0.0570,\n         0.4399, -1.2609, -0.3235,  1.6398, -1.0535, -0.6585,  0.3237,  0.7504])\ntensor([[-1.5971, -0.6118,  0.2971,  0.0373, -0.4902,  0.8217, -0.1105,  0.0570],\n        [ 0.4399, -1.2609, -0.3235,  1.6398, -1.0535, -0.6585,  0.3237,  0.7504]])\n"
     ]
    }
   ],
   "source": [
    "m = torch.randn(4,4)\n",
    "n = m.view(16)\n",
    "p = m.view(-1, 8)\n",
    "print(m)\n",
    "print(n)\n",
    "print(p)"
   ]
  },
  {
   "cell_type": "code",
   "execution_count": 13,
   "metadata": {},
   "outputs": [
    {
     "output_type": "stream",
     "name": "stdout",
     "text": [
      "tensor([1., 1., 1., 1., 1.])\n[1. 1. 1. 1. 1.]\n"
     ]
    }
   ],
   "source": [
    "a = torch.ones(5)\n",
    "print(a)\n",
    "b = a.numpy()\n",
    "print(b)"
   ]
  },
  {
   "cell_type": "code",
   "execution_count": 14,
   "metadata": {},
   "outputs": [
    {
     "output_type": "stream",
     "name": "stdout",
     "text": [
      "tensor([3., 3., 3., 3., 3.])\n[3. 3. 3. 3. 3.]\n"
     ]
    }
   ],
   "source": [
    "a.add_(2)\n",
    "print(a)\n",
    "print(b)"
   ]
  },
  {
   "cell_type": "code",
   "execution_count": 15,
   "metadata": {},
   "outputs": [
    {
     "output_type": "stream",
     "name": "stdout",
     "text": [
      "[4. 4. 4. 4. 4. 4. 4. 4.]\n"
     ]
    }
   ],
   "source": [
    "import numpy as np\n",
    "a1 = np.ones(8)\n",
    "b1 = torch.from_numpy(a1)\n",
    "np.add(a1, 3, out=a1)\n",
    "print(a1)"
   ]
  },
  {
   "cell_type": "code",
   "execution_count": 16,
   "metadata": {},
   "outputs": [
    {
     "output_type": "execute_result",
     "data": {
      "text/plain": [
       "tensor([[1., 1.],\n",
       "        [1., 1.]], requires_grad=True)"
      ]
     },
     "metadata": {},
     "execution_count": 16
    }
   ],
   "source": [
    "x5 = torch.ones(2, 2, requires_grad=True)\n",
    "x5"
   ]
  },
  {
   "cell_type": "code",
   "execution_count": 17,
   "metadata": {},
   "outputs": [
    {
     "output_type": "stream",
     "name": "stdout",
     "text": [
      "tensor([[3., 3.],\n        [3., 3.]], grad_fn=<AddBackward0>)\n\n\n<AddBackward0 object at 0x0000025D62634790>\n"
     ]
    }
   ],
   "source": [
    "y3 = x5 + 2\n",
    "print(y3)\n",
    "print('\\n')\n",
    "print(y3.grad_fn)"
   ]
  },
  {
   "cell_type": "code",
   "execution_count": 18,
   "metadata": {},
   "outputs": [
    {
     "output_type": "stream",
     "name": "stdout",
     "text": [
      "tensor([[27., 27.],\n        [27., 27.]], grad_fn=<MulBackward0>) tensor(27., grad_fn=<MeanBackward0>)\n"
     ]
    }
   ],
   "source": [
    "z1 = y3 * y3 * 3\n",
    "out = z1.mean()\n",
    "\n",
    "print(z1, out)"
   ]
  },
  {
   "cell_type": "code",
   "execution_count": 19,
   "metadata": {},
   "outputs": [
    {
     "output_type": "stream",
     "name": "stdout",
     "text": [
      "False\nTrue\n"
     ]
    }
   ],
   "source": [
    "a1 = torch.randn(2,2)\n",
    "a1 = ((a1 * 3) / (a1 - 1))\n",
    "print(a1.requires_grad)\n",
    "a1.requires_grad_(True)\n",
    "print(a1.requires_grad)"
   ]
  },
  {
   "cell_type": "code",
   "execution_count": 20,
   "metadata": {},
   "outputs": [
    {
     "output_type": "stream",
     "name": "stdout",
     "text": [
      "<SumBackward0 object at 0x0000025D62634430>\n"
     ]
    }
   ],
   "source": [
    "b1 = (a1 * a1).sum()\n",
    "print(b1.grad_fn)"
   ]
  },
  {
   "cell_type": "code",
   "execution_count": 21,
   "metadata": {},
   "outputs": [
    {
     "output_type": "stream",
     "name": "stdout",
     "text": [
      "tensor([[4.5000, 4.5000],\n        [4.5000, 4.5000]])\n"
     ]
    }
   ],
   "source": [
    "out.backward(retain_graph=True)\n",
    "print(x5.grad)"
   ]
  },
  {
   "cell_type": "code",
   "execution_count": 29,
   "metadata": {},
   "outputs": [
    {
     "output_type": "stream",
     "name": "stdout",
     "text": [
      "tensor([ 283.8253,  999.8781, 1100.4633], grad_fn=<MulBackward0>)\n"
     ]
    }
   ],
   "source": [
    "x6 = torch.randn(3, requires_grad=True)\n",
    "y4 = x6 * 2\n",
    "\n",
    "while y4.data.norm() < 1000:\n",
    "    y4 = y4 * 2\n",
    "\n",
    "print(y4)"
   ]
  },
  {
   "cell_type": "code",
   "execution_count": 30,
   "metadata": {},
   "outputs": [
    {
     "output_type": "stream",
     "name": "stdout",
     "text": [
      "tensor([1.0240e+02, 1.0240e+03, 1.0240e-01])\n"
     ]
    }
   ],
   "source": [
    "v1 = torch.tensor([0.1, 1.0, 0.0001], dtype=torch.float)\n",
    "y4.backward(v1, retain_graph=True)\n",
    "print(x6.grad)"
   ]
  },
  {
   "cell_type": "code",
   "execution_count": 32,
   "metadata": {},
   "outputs": [
    {
     "output_type": "stream",
     "name": "stdout",
     "text": [
      "True\nTrue\nFalse\n"
     ]
    }
   ],
   "source": [
    "print(x6.requires_grad)\n",
    "print((x6 ** 2).requires_grad)\n",
    "\n",
    "with torch.no_grad():\n",
    "    print((x6 ** 2).requires_grad)"
   ]
  },
  {
   "cell_type": "code",
   "execution_count": 33,
   "metadata": {},
   "outputs": [
    {
     "output_type": "stream",
     "name": "stdout",
     "text": [
      "True\n",
      "False\n",
      "tensor(True)\n"
     ]
    }
   ],
   "source": [
    "print(x6.requires_grad)\n",
    "y5 = x6.detach()\n",
    "print(y5.requires_grad)\n",
    "print(x6.eq(y5).all())"
   ]
  }
 ]
}